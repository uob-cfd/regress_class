{
 "cells": [
  {
   "cell_type": "markdown",
   "metadata": {},
   "source": [
    "# Regression, classification\n"
   ]
  },
  {
   "cell_type": "markdown",
   "metadata": {},
   "source": [
    "## This exercise uses Berkeley data science teaching materials\n",
    "\n",
    "This exercise is contains parts of labs 11 and 12 from section 3 of\n",
    "<https://github.com/data-8/materials-x19> with thanks.  See that URL for more\n",
    "on the license for these materials.  We release this version, like the\n",
    "original, under the  [Creative Commons Attribution-NonCommercial 4.0\n",
    "International license](https://creativecommons.org/licenses/by-nc/4.0) (CC\n",
    "BY-NC 4.0)."
   ]
  },
  {
   "cell_type": "markdown",
   "metadata": {},
   "source": [
    "# Welcome\n",
    "\n",
    "Please complete this notebook by filling in the cells provided. Before you\n",
    "begin, execute the following cell to load the provided tests. Each time you\n",
    "start your server, you will need to execute this cell again to load the tests.\n",
    "\n",
    "Directly sharing answers is not okay, but discussing problems with the course\n",
    "staff or with other students is encouraged. Refer to the Working Together page\n",
    "to learn more about how to learn cooperatively.\n",
    "\n",
    "For all problems that you must write our explanations and sentences for, you **must** provide your answer in the designated space. Moreover, throughout this homework and all future ones, please be sure to not re-assign variables throughout the notebook! For example, if you use `max_temperature` in your answer to one question, do not reassign it later on.\n",
    "\n",
    "As usual, the tests check if you are in the ballpark, but do not check if you have the correct answer.\n",
    "\n",
    "If your tests here fail, you will not get marks for the question, but if the\n",
    "tests pass, you may still not get marks, because your answer may still be\n",
    "incorrect."
   ]
  },
  {
   "cell_type": "code",
   "execution_count": null,
   "metadata": {},
   "outputs": [],
   "source": [
    "# Don't change this cell; just run it. \n",
    "import numpy as np\n",
    "import pandas as pd\n",
    "# Safe settings for Pandas.\n",
    "pd.set_option('mode.chained_assignment', 'raise')\n",
    "\n",
    "# These lines do some fancy plotting magic.\n",
    "import matplotlib\n",
    "%matplotlib inline\n",
    "import matplotlib.pyplot as plt\n",
    "plt.style.use('fivethirtyeight')\n",
    "\n",
    "# Minimize function from Scipy\n",
    "from scipy.optimize import minimize\n",
    "\n",
    "# Interactive widgets\n",
    "from ipywidgets import interact, interactive, fixed\n",
    "import ipywidgets as widgets\n",
    "\n",
    "# Load the OKpy test library and tests.\n",
    "from client.api.notebook import Notebook\n",
    "ok = Notebook('regress_class.ok')"
   ]
  },
  {
   "cell_type": "markdown",
   "metadata": {},
   "source": [
    "## 1. Residuals and linear regression\n"
   ]
  },
  {
   "cell_type": "markdown",
   "metadata": {},
   "source": [
    "### Regression Model Diagnostics"
   ]
  },
  {
   "cell_type": "markdown",
   "metadata": {},
   "source": [
    "Linear regression isn't always the best way to describe the relationship\n",
    "between two variables. We'd like to develop techniques that will help us\n",
    "decide whether or not to use a linear model to predict one variable based on\n",
    "another.\n",
    "\n",
    "We will use the insight that if a regression fits a set of points well, then\n",
    "the residuals from that regression line will show no pattern when plotted\n",
    "against the predictor variable. \n",
    "\n",
    "The data frame below contains information about crime rates and median home\n",
    "values in suburbs of Boston, as of 1970. We will attempt to use linear\n",
    "regression to predict median home value in terms of crime rate.\n",
    "\n",
    "See <https://github.com/odsti/datasets/tree/master/boston_housing> for more\n",
    "details on the dataset."
   ]
  },
  {
   "cell_type": "markdown",
   "metadata": {},
   "source": [
    "#### About the dataset\n",
    "\n",
    "We will start by looking at two columns in this dataset - `crime_rate` and `median_home_value`.\n",
    "\n",
    "Crime rates are per capita per year; home values are in thousands of dollars.\n",
    "The crime data come from the FBI, and home values are from the US Census\n",
    "Bureau.\n",
    "\n",
    "Run the next cell to load the data."
   ]
  },
  {
   "cell_type": "code",
   "execution_count": null,
   "metadata": {},
   "outputs": [],
   "source": [
    "boston = pd.read_csv('boston_corrected.csv')\n",
    "boston.head()"
   ]
  },
  {
   "cell_type": "markdown",
   "metadata": {},
   "source": [
    "Here is a scatterplot of the two columns of interest to us at the moment:"
   ]
  },
  {
   "cell_type": "code",
   "execution_count": null,
   "metadata": {},
   "outputs": [],
   "source": [
    "boston.plot.scatter('crime_rate', 'median_home_value');"
   ]
  },
  {
   "cell_type": "markdown",
   "metadata": {},
   "source": [
    "#### Question 0\n",
    "\n",
    "Remember, the correlation is a measure of linear association between two sequences.  Here our sequences are the values for the `crime_rate` column and the values for the `median_home_value` column.\n",
    "\n",
    "Also remember, that the correlation can be deceiving in various ways.  One way\n",
    "it can be deceiving is if the relationship between the two sequences is not\n",
    "linear (a straight line), but some other shape.\n",
    "\n",
    "Calculate the correlation between `crime_rate` and `median_home_value`, using\n",
    "any method you like.\n",
    "\n",
    "*Hint*: You might want to use the routines from previous notebooks in the\n",
    "textbook."
   ]
  },
  {
   "cell_type": "code",
   "execution_count": null,
   "metadata": {},
   "outputs": [],
   "source": [
    "r_cr_mhv = ...\n",
    "# Show the result.\n",
    "r_cr_mhv"
   ]
  },
  {
   "cell_type": "code",
   "execution_count": null,
   "metadata": {},
   "outputs": [],
   "source": [
    "_ = ok.grade('q1_0')"
   ]
  },
  {
   "cell_type": "markdown",
   "metadata": {},
   "source": [
    "#### Question 1\n",
    "\n",
    "The *residuals* are the values that *remain* in a sequence of values, after we\n",
    "have removed whatever we can predict using other values.\n",
    "\n",
    "They have two uses that you will see in this notebook:\n",
    "\n",
    "* We can use the residuals to *look for patterns*.   These patterns can\n",
    "  suggest problems in our original predictions.\n",
    "* We can use residuals to investigate what associations *remain* after\n",
    "  removing another association.\n",
    "\n",
    "In this section we will use residuals as a tool to look for patterns.\n",
    "\n",
    "Write a function called `calc_residuals`.  It should take three arguments:\n",
    "\n",
    "* `input_df`: a data frame\n",
    "* `x_col_name`: a string giving the name of column with the values we will use\n",
    "  to predict with.\n",
    "* `y_col_name`: a string giving the name of column with the values we will use\n",
    "  to predict.\n",
    "\n",
    "`calc_residuals` should first compute the slope and intercept of the least\n",
    "squares regression line that predicts the `y_col_name` column of the data frame\n",
    "using the `x_col_name` column of the data frame. The function should return an\n",
    "array containing the *residuals* for that regression line. Recall that\n",
    "residuals are given by \n",
    "\n",
    "$$residual = observed \\ value - regression \\ estimate$$\n",
    "\n",
    "We have also called the \"regression estimate\" above - the \"predicted\" values.\n",
    "\n",
    "*Hint*: For your convenience, in case you want to use it, here is the\n",
    "standard `ss_any_line` function we have used before:"
   ]
  },
  {
   "cell_type": "code",
   "execution_count": null,
   "metadata": {},
   "outputs": [],
   "source": [
    "def ss_any_line(c_s, x_values, y_values):\n",
    "    c, s = c_s\n",
    "    predicted = c + x_values * s\n",
    "    error = y_values - predicted\n",
    "    return np.sum(error ** 2)"
   ]
  },
  {
   "cell_type": "code",
   "execution_count": null,
   "metadata": {
    "deletable": false,
    "for_assignment_type": "student"
   },
   "outputs": [],
   "source": [
    "def calc_residuals(input_df, x_col_name, y_col_name):\n",
    "    ..."
   ]
  },
  {
   "cell_type": "code",
   "execution_count": null,
   "metadata": {
    "deletable": false
   },
   "outputs": [],
   "source": [
    "_ = ok.grade('q1_1')"
   ]
  },
  {
   "cell_type": "markdown",
   "metadata": {},
   "source": [
    "#### Question 2"
   ]
  },
  {
   "cell_type": "markdown",
   "metadata": {},
   "source": [
    "Make a scatter plot of the residuals from predicting `median_home_value` from\n",
    "the `crime_rate`.  Plot the residuals on the vertical axis, and the crime rate\n",
    "on the horizontal axis."
   ]
  },
  {
   "cell_type": "code",
   "execution_count": null,
   "metadata": {
    "deletable": false
   },
   "outputs": [],
   "source": [
    "..."
   ]
  },
  {
   "cell_type": "markdown",
   "metadata": {},
   "source": [
    "#### Question 3\n",
    "\n",
    "Does the plot of residuals look roughly like a formless cloud, or is there\n",
    "some kind of pattern? Are they centered around 0?"
   ]
  },
  {
   "cell_type": "markdown",
   "metadata": {
    "deletable": false,
    "manual_problem_id": "residual_pattern_1"
   },
   "source": [
    "*Write your answer here, replacing this text.*"
   ]
  },
  {
   "cell_type": "markdown",
   "metadata": {},
   "source": [
    "#### Question 4\n",
    "\n",
    "Does it seem like a linear model is appropriate for describing the\n",
    "relationship between crime and median home value?\n",
    "\n",
    "Assign `linear` to `True` if a linear model is appropriate for describing the\n",
    "relationship, and `False` if it is not."
   ]
  },
  {
   "cell_type": "code",
   "execution_count": null,
   "metadata": {
    "deletable": false
   },
   "outputs": [],
   "source": [
    "linear = ..."
   ]
  },
  {
   "cell_type": "code",
   "execution_count": null,
   "metadata": {
    "deletable": false
   },
   "outputs": [],
   "source": [
    "_ = ok.grade('q1_4')"
   ]
  },
  {
   "cell_type": "markdown",
   "metadata": {},
   "source": [
    "#### Question 5"
   ]
  },
  {
   "cell_type": "markdown",
   "metadata": {},
   "source": [
    "So far you have used residuals to look for patterns in the remaining data.  This can give us clues as to where our original predictions are failing.\n",
    "\n",
    "We can also use residuals as a measure for what remains, after removing a particular effect.  That is the use we will study here.\n",
    "\n",
    "You have just looked at the crime rate as a predictor of house prices, but\n",
    "there are many other columns in this dataset with measures that we would also\n",
    "expect to be relatable to house prices.\n",
    "\n",
    "Perhaps these other factors can explain a large proportion of the variation in home prices.  Perhaps, if we remove the effects of these other factors, this will reveal a stronger association between crime rate and home prices.  Or perhaps, these other factors are also related to the crime rate, and when we remove these other factors, the association of home prices with crime rate will decrease, because we have already removed the common source of variation.\n",
    "\n",
    "One factor we would expect to predict home prices is the average size of the houses, as measured by the average number of rooms.  This measure is in the `n_rooms_avg` column of the dataset.   If the \"town\" tends to have homes with more rooms, we expect these homes to be more expensive on average.\n",
    "\n",
    "First investigate whether `n_rooms_avg` is a possible explanatory factor in\n",
    "`median_home_prices`.  Calculate the correlation between `n_rooms_avg` and\n",
    "`median_home_value`, using any method you like.  Store the correlation\n",
    "coefficient as `r_nra_mhv` (the name is an abbreviation of \"r of `n_rooms_avg`\n",
    "with `median_home_value`\")."
   ]
  },
  {
   "cell_type": "code",
   "execution_count": null,
   "metadata": {},
   "outputs": [],
   "source": [
    "r_nra_mhv = ...\n",
    "# Show the result.\n",
    "r_nra_mhv"
   ]
  },
  {
   "cell_type": "code",
   "execution_count": null,
   "metadata": {},
   "outputs": [],
   "source": [
    "_ = ok.grade('q1_5')"
   ]
  },
  {
   "cell_type": "markdown",
   "metadata": {},
   "source": [
    "#### Question 6"
   ]
  },
  {
   "cell_type": "markdown",
   "metadata": {},
   "source": [
    "Your correlation might have persuaded you that we can predict house prices, to\n",
    "some degree, when we know the `n_rooms_avg` value.\n",
    "\n",
    "Now we wonder - does the apparent relationship between `crime_rate` and\n",
    "`median_home_value` still hold, when we allow for the values in\n",
    "`n_rooms_avg`?\n",
    "\n",
    "Address this question by *removing* the effect of `n_rooms_avg` on\n",
    "`median_home_value`.  Do this by taking the residuals of the\n",
    "`median_home_values` after predicting from `n_rooms_avg`.  Then we look at the\n",
    "correlation of the *residuals* with `crime_rate`.  Calculate and store this\n",
    "correlation as `r_cr_r_nra` (an abbreviation of \"r of `crime_rate` with the residuals of regressing `n_rooms_avg` on `median_home_value`\")."
   ]
  },
  {
   "cell_type": "code",
   "execution_count": null,
   "metadata": {},
   "outputs": [],
   "source": [
    "#- Calculate the residuals for median_home_value after predicting from\n",
    "#- n_rooms_avg.  Calculate the correlation of these residuals with\n",
    "#- crime_rate.\n",
    "r_cr_r_nra = ...\n",
    "# Show the result\n",
    "r_cr_r_nra"
   ]
  },
  {
   "cell_type": "code",
   "execution_count": null,
   "metadata": {},
   "outputs": [],
   "source": [
    "_ = ok.grade('q1_6')"
   ]
  },
  {
   "cell_type": "markdown",
   "metadata": {},
   "source": [
    "#### Question 7"
   ]
  },
  {
   "cell_type": "markdown",
   "metadata": {},
   "source": [
    "You may have seen above, that once we have adjusted home values with what we\n",
    "can predict from `n_rooms_avg`, the association of the remaining home prices\n",
    "with `crime_rate` is a little less strong, but similar.\n",
    "\n",
    "There are other factors recorded in the dataset that might explain house\n",
    "prices.  Some of these could have a stronger relationship with `crime_rate`,\n",
    "and therefore, explain more of the relationship between `crime_rate` and\n",
    "`median_home_value`.\n",
    "\n",
    "For example, one rather eye-watering column is `lower_stat_pct`.  It is an\n",
    "attempt to measure the percentage of homes in a given Boston suburb owned by\n",
    "people of \"lower social status\".  Specifically, it measures the percentage of\n",
    "home owners that do not have a high-school education, or that have work\n",
    "classified as \"laborers\".  We might expect that people in these categories\n",
    "would have less money, and therefore, will tend to live in suburbs with\n",
    "cheaper houses.\n",
    "\n",
    "We could also imagine that people with lower incomes will have greater need of\n",
    "money and therefore, more incentive to the kind of crime that affects\n",
    "`crime_rate`.   Maybe, if we remove the effect of `lower_stat_pct` from house\n",
    "prices, we will thereby remove the effect of `crime_rate`.\n",
    "\n",
    "Calculate the residuals after regressing `lower_stat_pct` against `median_home_value`, and then calculate the correlation of these residuals with `crime_rate`."
   ]
  },
  {
   "cell_type": "code",
   "execution_count": null,
   "metadata": {},
   "outputs": [],
   "source": [
    "#- Calculate the residuals for median_home_value after predicting from\n",
    "#- lower_stat_pct.  Calculate the correlation of these residuals with\n",
    "#- crime_rate.\n",
    "r_cr_r_lsp = ...\n",
    "# Show the result\n",
    "r_cr_r_lsp"
   ]
  },
  {
   "cell_type": "code",
   "execution_count": null,
   "metadata": {},
   "outputs": [],
   "source": [
    "_ = ok.grade('q1_7')"
   ]
  },
  {
   "cell_type": "markdown",
   "metadata": {},
   "source": [
    "#### Question 8"
   ]
  },
  {
   "cell_type": "markdown",
   "metadata": {},
   "source": [
    "We hope you found that adjusting for `lower_stat_pct` had a more dramatic effect on the correlation with `crime_rate`.\n",
    "\n",
    "However, these effects of adjusting for different variables can be complicated.\n",
    "\n",
    "So far you have seen the correlations can go down when adjusting for other effects that have some relationship with the predictor we are most interested in - `crime_rate`.\n",
    "\n",
    "In fact, the relationship between variables can be rather complicated - and correlations can go up or down after adjusting for other variables.\n",
    "\n",
    "For example, another step we might take is to use *multiple regression* to\n",
    "adjust `median_home_value` *both* for `n_rooms_avg` *and* `lower_stat_pct`.\n",
    "After we have done that, we can look at the residuals from the multiple\n",
    "regression, and see whether these residuals, adjusted for both effects,\n",
    "correlate with `crime_rate`.\n",
    "\n",
    "[Remember](https://matthew-brett.github.io/cfd2020/classification/single_multiple) that, with\n",
    "multiple regression, we use more than one predictor column to predict the\n",
    "values we are interested in.  In our case we are going to use the\n",
    "`n_rooms_avg` and the `lower_stat_pct` predictor columns to predict the values\n",
    "in the `median_home_value` column.\n",
    "\n",
    "We need to find three values to do this prediction:\n",
    "\n",
    "* A \"best\" intercept. Call this `intercept`\n",
    "* A \"best\" slope for `n_rooms_avg`.  Call this `slope_room`.\n",
    "* A \"best\" slope for `lower_stat_pct`.  Call this `slope_stat`.\n",
    "\n",
    "We will define \"best\", as usual, as the `intercept`, `slope_room` and\n",
    "`slope_stat` such that our predictions for `median_home_value` using these\n",
    "values, minimize the sums of squared differences from the actual `median_home_value` values.\n",
    "\n",
    "For any given `intercept`, `slope_room` and `slope_stat`, our prediction for `median_home_value` will be:\n",
    "\n",
    "```\n",
    "intercept + slope_room * boston['n_rooms_avg'] + slope_stat * boston['lower_stat_pct']\n",
    "```\n",
    "\n",
    "Call the \"best\" three values `[intercept, slope_room, slope_stat]` - the\n",
    "*parameters* we are trying to find.\n",
    "\n",
    "We will use `minimize` to find our \"best\" parameters.\n",
    "\n",
    "First we need a function `ss_ls_rm_mhv` that takes an array `params`, with\n",
    "three values, and calculates the sum of squared errors.   For simplicity, the\n",
    "function should take a single parameter `params` that is an array with 3\n",
    "elements.   The three elements are respectively:\n",
    "\n",
    "* The value for the intercept\n",
    "* The value for the slope for `n_rooms_avg`\n",
    "* The value for the slope for `lower_stat_pct`\n",
    "\n",
    "The function will use the `boston` data frame from the top level to get the\n",
    "relevant columns in order to do the calculation.   It returns a single number,\n",
    "the sum of squared differences between the prediction, given the `params`, and\n",
    "the `boston['median_home_value']` column values.\n"
   ]
  },
  {
   "cell_type": "code",
   "execution_count": null,
   "metadata": {},
   "outputs": [],
   "source": [
    "def ss_ls_rm_mhv(params):\n",
    "    ..."
   ]
  },
  {
   "cell_type": "code",
   "execution_count": null,
   "metadata": {},
   "outputs": [],
   "source": [
    "# Evaluate your function for the parameters [1, 0.5, -0.5]\n",
    "# (intercept of 1, slope_room of 0.5, slope_stat of -0.5)\n",
    "ss_ls_rm_mhv([1, 0.5, -0.5])"
   ]
  },
  {
   "cell_type": "code",
   "execution_count": null,
   "metadata": {},
   "outputs": [],
   "source": [
    "_ = ok.grade('q1_8')"
   ]
  },
  {
   "cell_type": "markdown",
   "metadata": {},
   "source": [
    "#### Question 9"
   ]
  },
  {
   "cell_type": "markdown",
   "metadata": {},
   "source": [
    "Now you have a function you can use with `minimize`.\n",
    "\n",
    "Call `minimize` and store the result as `min_result`.  The result from a call to minimize has various attributes, including `fun` (the lowest value that the function can return) and `x` (the parameters that result in this lowest value)."
   ]
  },
  {
   "cell_type": "code",
   "execution_count": null,
   "metadata": {},
   "outputs": [],
   "source": [
    "min_result = ...\n",
    "# Show the returned value.\n",
    "min_result"
   ]
  },
  {
   "cell_type": "code",
   "execution_count": null,
   "metadata": {},
   "outputs": [],
   "source": [
    "_ = ok.grade('q1_9a')"
   ]
  },
  {
   "cell_type": "markdown",
   "metadata": {},
   "source": [
    "With the parameters from `min_res`, calculate the residuals for\n",
    "`median_home_value`. Remember, the residuals are `median_home_value` values\n",
    "after subtracting the *prediction* from the intercept and the two slopes."
   ]
  },
  {
   "cell_type": "code",
   "execution_count": null,
   "metadata": {},
   "outputs": [],
   "source": [
    "multi_residuals = ...\n",
    "# Show the first five residuals\n",
    "multi_residuals[:5]"
   ]
  },
  {
   "cell_type": "code",
   "execution_count": null,
   "metadata": {},
   "outputs": [],
   "source": [
    "_ = ok.grade('q1_9b')"
   ]
  },
  {
   "cell_type": "markdown",
   "metadata": {},
   "source": [
    "Remember the `fun` attribute of `min_result`.  This is the lowest value that `minimize` could get when calling the function you gave it.  `x` is the array of parameters to pass to the function to give this `fun` value.\n",
    "\n",
    "You might want to confirm to yourself that the sum of squares of the residuals you have just calculated for the \"best\" parameters are indeed very close to the value for the `fun` attribute of `min_result`:"
   ]
  },
  {
   "cell_type": "code",
   "execution_count": null,
   "metadata": {},
   "outputs": [],
   "source": [
    "print('Lowest value from min_result', min_result.fun)\n",
    "print('Sum of squares of residuals', np.sum(multi_residuals ** 2))"
   ]
  },
  {
   "cell_type": "markdown",
   "metadata": {},
   "source": [
    "Investigate the effect of adjusting for both `n_rooms_avg` and\n",
    "`lower_stat_pct` by calculating the correlation coefficient between the\n",
    "residuals from the multiple regression and `crime_rate`."
   ]
  },
  {
   "cell_type": "code",
   "execution_count": null,
   "metadata": {},
   "outputs": [],
   "source": [
    "r_cr_r_nra_lsp = ...\n",
    "# Show the result\n",
    "r_cr_r_nra_lsp"
   ]
  },
  {
   "cell_type": "code",
   "execution_count": null,
   "metadata": {},
   "outputs": [],
   "source": [
    "_ = ok.grade('q1_9c')"
   ]
  },
  {
   "cell_type": "markdown",
   "metadata": {},
   "source": [
    "**For reflection**: Has the correlation gone up or down when we added the\n",
    "adjustment for both columns (`n_rooms_avg` and `lower_stat_pct`).  Think about\n",
    "why that might be.  *Warning* - these multiple regression relationships can be\n",
    "hard to think about.\n"
   ]
  },
  {
   "cell_type": "markdown",
   "metadata": {},
   "source": [
    "## 2. Reading Sign Language with Classification"
   ]
  },
  {
   "cell_type": "markdown",
   "metadata": {},
   "source": [
    "Brazilian Sign Language is a visual language used primarily by Brazilians who\n",
    "are deaf.  It is more commonly called Libras.  People who communicate with\n",
    "visual language are called *signers*.  Here is a video of someone signing in\n",
    "Libras:"
   ]
  },
  {
   "cell_type": "code",
   "execution_count": null,
   "metadata": {},
   "outputs": [],
   "source": [
    "from IPython.lib.display import YouTubeVideo\n",
    "YouTubeVideo(\"SiJUggsJ3e8\")"
   ]
  },
  {
   "cell_type": "markdown",
   "metadata": {},
   "source": [
    "Programs like Siri or Google Now begin the process of understanding human\n",
    "speech by classifying short clips of raw sound into basic categories called\n",
    "*phones*.  For example, the recorded sound of someone saying the word \"robot\"\n",
    "might be broken down into several phones: \"rrr\", \"oh\", \"buh\", \"aah\", and\n",
    "\"tuh\".  Phones are then grouped together into further categories like words\n",
    "(\"robot\") and sentences (\"I, for one, welcome our new robot overlords\") that\n",
    "carry more meaning.\n",
    "\n",
    "A visual language like Libras has an analogous structure.  Instead of phones,\n",
    "each word is made up of several *hand movements*.  As a first step in\n",
    "interpreting Libras, we can break down a video clip into small segments, each\n",
    "containing a single hand movement.  The task is then to figure out what hand\n",
    "movement each segment represents.\n",
    "\n",
    "We can do that with classification!\n",
    "\n",
    "The [data](https://archive.ics.uci.edu/ml/machine-learning-databases/libras/movement_libras.names) in this exercise come from Dias, Peres, and Biscaro, researchers at the University of Sao Paulo in Brazil.  They identified 15 distinct hand movements in Libras (probably an oversimplification, but a useful one) and captured short videos of signers making those hand movements.  (You can read more about their work [here](http://ieeexplore.ieee.org/Xplore/login.jsp?url=http%3A%2F%2Fieeexplore.ieee.org%2Fiel5%2F5161636%2F5178557%2F05178917.pdf&authDecision=-203). The paper is gated, so you will need to use your institution's Wi-Fi or VPN to access it.)\n",
    "\n",
    "For each video, they chose 45 still frames from the video and identified the\n",
    "location (in horizontal and vertical coordinates) of the signer's hand in each\n",
    "frame.  Since there are two coordinates for each frame, this gives us a total\n",
    "of 90 numbers summarizing how a hand moved in each video.  Those 90 numbers\n",
    "will be our *attributes*.\n",
    "\n",
    "Each video is *labeled* with the kind of hand movement the signer was making in it.  Each label is one of 15 strings like \"horizontal swing\" or \"vertical zigzag\".\n",
    "\n",
    "For simplicity, we're going to focus on distinguishing between just two kinds\n",
    "of movements: \"horizontal straight-line\" and \"vertical straight-line\".  We\n",
    "took the Sao Paulo researchers' original dataset, which was quite small, and\n",
    "used some simple techniques to create a much larger synthetic dataset.\n",
    "\n",
    "These data are in the file `movements.csv`.  Run the next cell to load it."
   ]
  },
  {
   "cell_type": "code",
   "execution_count": null,
   "metadata": {
    "deletable": false
   },
   "outputs": [],
   "source": [
    "movements = pd.read_csv(\"movements.csv\")\n",
    "movements.head()"
   ]
  },
  {
   "cell_type": "markdown",
   "metadata": {},
   "source": [
    "The cell below displays movements graphically.  Run it and use the slider to\n",
    "answer the next question."
   ]
  },
  {
   "cell_type": "code",
   "execution_count": null,
   "metadata": {
    "deletable": false
   },
   "outputs": [],
   "source": [
    "# Just run this cell and use the slider it produces.\n",
    "def display_whole_movement(row_idx):\n",
    "    n, p = movements.shape\n",
    "    num_frames = int((p - 1)/2)\n",
    "    row = movements.drop(\"Movement type\", axis=1).iloc[row_idx]\n",
    "    xs = row.iloc[np.arange(0, 2*num_frames, 2)]\n",
    "    ys = row.iloc[np.arange(1, 2*num_frames, 2)]\n",
    "    plt.figure(figsize=(5,5))\n",
    "    plt.plot(xs, ys, c=\"gold\")\n",
    "    plt.xlabel(\"x\")\n",
    "    plt.ylabel(\"y\")\n",
    "    plt.xlim(-.5, 1.5)\n",
    "    plt.ylim(-.5, 1.5)\n",
    "    plt.gca().set_aspect('equal', adjustable='box')\n",
    "\n",
    "\n",
    "def display_hand(example, frame, display_truth):\n",
    "        time_idx = frame-1\n",
    "        display_whole_movement(example)\n",
    "        x = movements.iloc[2*time_idx, example]\n",
    "        y = movements.iloc[2*time_idx+1, example]\n",
    "        plt.annotate(\n",
    "            \"frame {:d}\".format(frame),\n",
    "            xy=(x, y), xytext=(-20, 20),\n",
    "            textcoords = 'offset points', ha = 'right', va = 'bottom',\n",
    "            color='white',\n",
    "            bbox = {'boxstyle': 'round,pad=0.5', 'fc': 'black', 'alpha':.4},\n",
    "            arrowprops = {'arrowstyle': '->', 'connectionstyle':'arc3,rad=0', 'color': 'black'})\n",
    "        plt.scatter(x, y, c=\"black\", zorder=10)\n",
    "        plt.title(\"Hand positions for movement {:d}{}\".format(example, \"\\n(True class: {})\".format(movements[\"Movement type\"].iloc[example]) if display_truth else \"\"))\n",
    "\n",
    "\n",
    "def animate_movement():\n",
    "    n, p = movements.shape\n",
    "    interact(\n",
    "        display_hand,\n",
    "        example=widgets.BoundedIntText(min=0, max=n - 1, value=0,\n",
    "        msg_throttle=1),\n",
    "        frame=widgets.IntSlider(min=1, max=int((p - 1) / 2), step=1, value=1, msg_throttle=1),\n",
    "        display_truth=fixed(False))\n",
    "\n",
    "\n",
    "animate_movement()"
   ]
  },
  {
   "cell_type": "markdown",
   "metadata": {},
   "source": [
    "#### Question 1"
   ]
  },
  {
   "cell_type": "markdown",
   "metadata": {},
   "source": [
    "Before we move on, check your understanding of the dataset.  Judging by the\n",
    "plot, is the first movement example a vertical motion, or a horizontal motion?\n",
    "If it is hard to tell, does it seem more likely to be vertical or horizontal?\n",
    "This is the kind of question a classifier has to answer.  Find out the right\n",
    "answer by looking at the `\"Movement type\"` column.\n",
    "\n",
    "Assign `first_movement` to `1` if the movement was vertical, or `2` if the movement was horizontal."
   ]
  },
  {
   "cell_type": "code",
   "execution_count": null,
   "metadata": {
    "deletable": false
   },
   "outputs": [],
   "source": [
    "first_movement = ..."
   ]
  },
  {
   "cell_type": "code",
   "execution_count": null,
   "metadata": {
    "deletable": false
   },
   "outputs": [],
   "source": [
    "_ = ok.grade('q2_1')"
   ]
  },
  {
   "cell_type": "markdown",
   "metadata": {},
   "source": [
    "### Splitting the dataset"
   ]
  },
  {
   "cell_type": "markdown",
   "metadata": {},
   "source": [
    "We'll do 2 different kinds of things with the `movements` dataset:\n",
    "\n",
    "1. We'll build a classifier that uses the movements with known labels as\n",
    "   examples to classify similar movements.  This is called *training*.\n",
    "2. We'll evaluate or *test* the accuracy of the classifier we build.\n",
    "\n",
    "For reasons discussed in lecture and the textbook, we want to use separate\n",
    "datasets for these two purposes.  So we split up our one dataset into two.\n"
   ]
  },
  {
   "cell_type": "markdown",
   "metadata": {},
   "source": [
    "#### Question 2"
   ]
  },
  {
   "cell_type": "markdown",
   "metadata": {},
   "source": [
    "Create a data frame called `train_movements` and another data frame called\n",
    "`test_movements`.  `train_movements` should include the first\n",
    "$\\frac{11}{16}$th of the rows in `movements` (rounded to the nearest integer),\n",
    "and `test_movements` should include the remaining $\\frac{5}{16}$th.\n",
    "\n",
    "Note that we do **not** mean the first 11 rows for the training test and rows\n",
    "12-16 for the test set. We mean the first $\\frac{11}{16} = 68.75$% of the\n",
    "data frame should be for the training set, and the rest should be for the test\n",
    "set.\n",
    "\n",
    "*Hint:* Use the dataset `iloc` indexing."
   ]
  },
  {
   "cell_type": "code",
   "execution_count": null,
   "metadata": {
    "deletable": false,
    "for_assignment_type": "student"
   },
   "outputs": [],
   "source": [
    "training_proportion = 11/16\n",
    "num_movements = len(movements)\n",
    "num_train = int(round(num_movements * training_proportion))\n",
    "train_movements = ...\n",
    "test_movements = ...\n",
    "print(\"Training set:\\t\", len(train_movements), \"examples\")\n",
    "print(\"Test set:\\t\", len(test_movements), \"examples\")"
   ]
  },
  {
   "cell_type": "code",
   "execution_count": null,
   "metadata": {
    "deletable": false
   },
   "outputs": [],
   "source": [
    "_ = ok.grade('q2_2')"
   ]
  },
  {
   "cell_type": "markdown",
   "metadata": {},
   "source": [
    "### Using only 2 features"
   ]
  },
  {
   "cell_type": "markdown",
   "metadata": {},
   "source": [
    "First let's see how well we can distinguish two movements (a vertical line and a horizontal line) using the hand position from just a single frame (without the other 44).\n"
   ]
  },
  {
   "cell_type": "markdown",
   "metadata": {},
   "source": [
    "#### Question 3"
   ]
  },
  {
   "cell_type": "markdown",
   "metadata": {},
   "source": [
    "Make a data frame called `train_two_features` with only 3 columns: the first\n",
    "frame’s x coordinate and first frame’s y coordinate are our chosen features,\n",
    "as well as the movement type; only the examples in `train_movements`.\n",
    "\n",
    "You might want to scroll up to check the column names in the data frame."
   ]
  },
  {
   "cell_type": "code",
   "execution_count": null,
   "metadata": {
    "deletable": false
   },
   "outputs": [],
   "source": [
    "train_two_features = ...\n",
    "train_two_features"
   ]
  },
  {
   "cell_type": "code",
   "execution_count": null,
   "metadata": {
    "deletable": false
   },
   "outputs": [],
   "source": [
    "_ = ok.grade('q2_3')"
   ]
  },
  {
   "cell_type": "markdown",
   "metadata": {},
   "source": [
    "Now we want to make a scatter plot of the frame coordinates, where the dots\n",
    "for horizontal straight-line movements have one color and the dots for\n",
    "vertical straight-line movements have another color.  Here is a scatter plot\n",
    "without colors:"
   ]
  },
  {
   "cell_type": "code",
   "execution_count": null,
   "metadata": {
    "deletable": false
   },
   "outputs": [],
   "source": [
    "train_two_features.plot.scatter(\"Frame 1 x\", \"Frame 1 y\")"
   ]
  },
  {
   "cell_type": "markdown",
   "metadata": {},
   "source": [
    "This isn't useful because we don't know which dots are which movement type.\n",
    "We need to tell Python how to color the dots.  Let's use gold for vertical and\n",
    "blue for horizontal movements.\n",
    "\n",
    "`scatter` takes an extra argument called `c` that's the name of an extra\n",
    "column in the data frame that contains colors (strings like \"red\" or \"orange\")\n",
    "for each row.  So we need to create a data frame like this:\n",
    "\n",
    "|Frame 1 x|Frame 1 y|Movement type|Color|\n",
    "|-|-|-|-|\n",
    "|0.522768|0.769731|vertical straight-line|gold|\n",
    "|0.179546|0.658986|horizontal straight-line|blue|\n",
    "|...|...|...|...|\n"
   ]
  },
  {
   "cell_type": "markdown",
   "metadata": {},
   "source": [
    "#### Question 4\n",
    "\n",
    "In the cell below, create a *new* data frame named `with_colors`.  It should\n",
    "have the same columns as the example data frame above, but with a row for each\n",
    "row in `train_two_features`. Then, create a scatter plot of your data."
   ]
  },
  {
   "cell_type": "code",
   "execution_count": null,
   "metadata": {
    "deletable": false,
    "manual_grade": true,
    "manual_problem_id": "sign_lang_2"
   },
   "outputs": [],
   "source": [
    "with_colors = train_two_features.copy()\n",
    "with_colors = ..."
   ]
  },
  {
   "cell_type": "markdown",
   "metadata": {},
   "source": [
    "#### Question 5"
   ]
  },
  {
   "cell_type": "markdown",
   "metadata": {},
   "source": [
    "Based on the scatter plot, how well will a nearest-neighbor classifier based on only these 2 features (the x- and y-coordinates of the hand position in the first frame) work?  Will it:\n",
    "\n",
    "1. distinguish almost perfectly between vertical and horizontal movements;\n",
    "2. distinguish somewhat well between vertical and horizontal movements,\n",
    "   getting some correct but missing a substantial proportion; or\n",
    "3. be basically useless in distinguishing between vertical and horizontal\n",
    "   movements?\n",
    "\n",
    "Why?"
   ]
  },
  {
   "cell_type": "markdown",
   "metadata": {
    "deletable": false,
    "lines_to_next_cell": 2,
    "manual_grade": true,
    "manual_problem_id": "sign_lang_3"
   },
   "source": [
    "*Write your answer here, replacing this text.*"
   ]
  },
  {
   "cell_type": "markdown",
   "metadata": {},
   "source": [
    "## 3. Classification Potpourri"
   ]
  },
  {
   "cell_type": "markdown",
   "metadata": {},
   "source": [
    "Throughout this question, we will aim to discuss some conceptual nuances of\n",
    "classification that often get overlooked when we're focused only on improving\n",
    "our accuracy and building the best classifier possible. \n"
   ]
  },
  {
   "cell_type": "markdown",
   "metadata": {},
   "source": [
    "#### Question 1"
   ]
  },
  {
   "cell_type": "markdown",
   "metadata": {},
   "source": [
    "What is the point of a test-set? Should we use our test set to find the best\n",
    "possible number of neighbors for a k-NN classifier? Explain."
   ]
  },
  {
   "cell_type": "markdown",
   "metadata": {
    "deletable": false,
    "lines_to_next_cell": 2,
    "manual_grade": true,
    "manual_problem_id": "potpourri_1"
   },
   "source": [
    "*Write your answer here, replacing this text.*"
   ]
  },
  {
   "cell_type": "markdown",
   "metadata": {},
   "source": [
    "#### Question 2"
   ]
  },
  {
   "cell_type": "markdown",
   "metadata": {},
   "source": [
    "You have a large dataset `breast-cancer` which has three columns. The first\n",
    "two are attributes of the person that might be predictive of whether or not\n",
    "someone has breast-cancer, and the third column indicates whether they have it\n",
    "or not. 99% of the data frame contains examples of people who do not have\n",
    "breast cancer.\n",
    "\n",
    "Imagine you are trying to use a k-NN classifier to use the first two columns\n",
    "to predict whether or not someone has breast cancer. You split your training\n",
    "and test set up as necessary, you develop a 7 Nearest Neighbors classifier,\n",
    "and you notice your classifier predicts every point in the test set to be a\n",
    "person who does not have breast cancer. Is there a problem with your\n",
    "classifier? Explain this phenomenon."
   ]
  },
  {
   "cell_type": "markdown",
   "metadata": {
    "deletable": false,
    "lines_to_next_cell": 2,
    "manual_grade": true,
    "manual_problem_id": "potpourri_2"
   },
   "source": [
    "*Write your answer here, replacing this text.*"
   ]
  },
  {
   "cell_type": "markdown",
   "metadata": {},
   "source": [
    "#### Question 3"
   ]
  },
  {
   "cell_type": "markdown",
   "metadata": {},
   "source": [
    "You have a training set of 35 examples of characteristics of fruits along with\n",
    "what fruit is actually being described. 25 of the examples of Apples, and 10\n",
    "of the examples are Oranges.\n",
    "\n",
    "You decide to make a k-NN classifier. Assign `k_upper_bound` to the smallest\n",
    "value of k such that the classifier will *always* predict Apple for *every*\n",
    "point, regardless of how the data is actually spread out.\n",
    "\n",
    "Imagine that ties are broken at random for even values of k, so there is no\n",
    "guarantee of what will be picked if there is a tie.\n"
   ]
  },
  {
   "cell_type": "code",
   "execution_count": null,
   "metadata": {
    "deletable": false
   },
   "outputs": [],
   "source": [
    "k_upper_bound = ..."
   ]
  },
  {
   "cell_type": "code",
   "execution_count": null,
   "metadata": {
    "deletable": false
   },
   "outputs": [],
   "source": [
    "_ = ok.grade('q3_3')"
   ]
  },
  {
   "cell_type": "markdown",
   "metadata": {},
   "source": [
    "## Done\n",
    "\n",
    "You're finished with the assignment!  Be sure to...\n",
    "\n",
    "- **run all the tests** (the next cell has a shortcut for that),\n",
    "- **Save and Checkpoint** from the \"File\" menu.\n",
    "- Finally, **restart** the kernel for this notebook, and **run all the\n",
    "  cells**, to check that the notebook still works without errors.  Use the\n",
    "  \"Kernel\" menu, and choose \"Restart and run all\".  If you find any problems,\n",
    "  go back and fix them, save the notebook, and restart / run all again, before\n",
    "  submitting.  When you do this, you make sure that we, your humble markers,\n",
    "  will be able to mark your notebook."
   ]
  },
  {
   "cell_type": "code",
   "execution_count": null,
   "metadata": {},
   "outputs": [],
   "source": [
    "# For your convenience, you can run this cell to run all the tests at once!\n",
    "import os\n",
    "_ = [ok.grade(q[:-3]) for q in os.listdir(\"tests\") if q.startswith('q')]"
   ]
  }
 ],
 "metadata": {
  "jupytext": {
   "notebook_metadata_filter": "all,-language_info",
   "split_at_heading": true,
   "text_representation": {
    "extension": ".Rmd",
    "format_name": "rmarkdown",
    "format_version": "1.2",
    "jupytext_version": "1.8.2"
   }
  },
  "kernelspec": {
   "display_name": "Python 3",
   "language": "python",
   "name": "python3"
  }
 },
 "nbformat": 4,
 "nbformat_minor": 4
}
